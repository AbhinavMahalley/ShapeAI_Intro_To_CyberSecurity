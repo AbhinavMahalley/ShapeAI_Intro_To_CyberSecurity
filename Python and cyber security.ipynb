{
 "cells": [
  {
   "cell_type": "code",
   "execution_count": 1,
   "metadata": {},
   "outputs": [
    {
     "name": "stdout",
     "output_type": "stream",
     "text": [
      "Enter the city name: chandrapur\n",
      "{\"coord\":{\"lon\":79.3,\"lat\":19.95},\"weather\":[{\"id\":804,\"main\":\"Clouds\",\"description\":\"overcast clouds\",\"icon\":\"04n\"}],\"base\":\"stations\",\"main\":{\"temp\":300.17,\"feels_like\":302.56,\"temp_min\":300.17,\"temp_max\":300.17,\"pressure\":1005,\"humidity\":76,\"sea_level\":1005,\"grnd_level\":984},\"visibility\":10000,\"wind\":{\"speed\":2.04,\"deg\":258,\"gust\":4.44},\"clouds\":{\"all\":93},\"dt\":1624459521,\"sys\":{\"country\":\"IN\",\"sunrise\":1624406690,\"sunset\":1624454702},\"timezone\":19800,\"id\":1274693,\"name\":\"Chānda\",\"cod\":200}\n",
      "-------------------------------------------------------------\n",
      "Weather Stats for - CHANDRAPUR  || 23 Jun 2021 | 08:15:20 PM\n",
      "-------------------------------------------------------------\n",
      "Current temperature is: 27.02 deg C\n",
      "Current weather desc  : overcast clouds\n",
      "Current Humidity      : 76 %\n",
      "Current wind speed    : 2.04 kmph\n"
     ]
    }
   ],
   "source": [
    "import requests\n",
    "import os\n",
    "from datetime import datetime\n",
    "api_key = 'a7bbd4d9cfc2cd9358b356f90762bc03'\n",
    "location = input(\"Enter the city name: \")\n",
    "\n",
    "complete_api_link = \"https://api.openweathermap.org/data/2.5/weather?q=\"+location+\"&appid=\"+api_key\n",
    "api_link = requests.get(complete_api_link)\n",
    "print(api_link.text)\n",
    "api_data = api_link.json()\n",
    "\n",
    "#create variables to store and display data\n",
    "temp_city = ((api_data['main']['temp']) - 273.15)\n",
    "weather_desc = api_data['weather'][0]['description']\n",
    "hmdt = api_data['main']['humidity']\n",
    "wind_spd = api_data['wind']['speed']\n",
    "date_time = datetime.now().strftime(\"%d %b %Y | %I:%M:%S %p\")\n",
    "\n",
    "print (\"-------------------------------------------------------------\")\n",
    "print (\"Weather Stats for - {}  || {}\".format(location.upper(), date_time))\n",
    "print (\"-------------------------------------------------------------\")\n",
    "\n",
    "print (\"Current temperature is: {:.2f} deg C\".format(temp_city))\n",
    "print (\"Current weather desc  :\",weather_desc)\n",
    "print (\"Current Humidity      :\",hmdt, '%')\n",
    "print (\"Current wind speed    :\",wind_spd ,'kmph')"
   ]
  },
  {
   "cell_type": "markdown",
   "metadata": {},
   "source": [
    "Output in a file"
   ]
  },
  {
   "cell_type": "code",
   "execution_count": 2,
   "metadata": {},
   "outputs": [],
   "source": [
    "l1=\"-------------------------------------------------------------\\n\"\n",
    "l2=\"Weather Stats for - {}  || {}\\n\".format(location.upper(), date_time)\n",
    "l3=\"Current temperature is: {:.2f} deg C\\n\".format(temp_city)\n",
    "l4=\"Current weather desc  :{}\\n\".format(weather_desc)\n",
    "l5=\"Current Humidity      :{} %\\n\".format(hmdt)\n",
    "l6=\"Current wind speed    :{} kmph\\n\".format(wind_spd)\n",
    "Lines=[l1,l2,l1,l3,l4,l5,l6]\n",
    "f = open(\"WeatherData.txt\", \"w\")\n",
    "f.writelines(Lines)\n",
    "f.close()"
   ]
  },
  {
   "cell_type": "code",
   "execution_count": null,
   "metadata": {},
   "outputs": [],
   "source": []
  }
 ],
 "metadata": {
  "kernelspec": {
   "display_name": "Python 3",
   "language": "python",
   "name": "python3"
  },
  "language_info": {
   "codemirror_mode": {
    "name": "ipython",
    "version": 3
   },
   "file_extension": ".py",
   "mimetype": "text/x-python",
   "name": "python",
   "nbconvert_exporter": "python",
   "pygments_lexer": "ipython3",
   "version": "3.8.3"
  }
 },
 "nbformat": 4,
 "nbformat_minor": 4
}
